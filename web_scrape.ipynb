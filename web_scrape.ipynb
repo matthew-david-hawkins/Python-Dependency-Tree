{
 "cells": [
  {
   "cell_type": "code",
   "execution_count": 22,
   "metadata": {},
   "outputs": [],
   "source": [
    "from bs4 import BeautifulSoup as bs\n",
    "from splinter import Browser\n",
    "import requests\n",
    "import json\n",
    "\n",
    "def write_modules() -> str:\n",
    "    \"\"\"Scrapes module names from pypi and writes them into a json. Returns a response message\"\"\"\n",
    "    response = requests.get(\"https://pypi.org/simple\")\n",
    "    page_text = response.text\n",
    "\n",
    "    soup = bs(page_text, 'html.parser')\n",
    "\n",
    "    modules = {}\n",
    "    for module in soup.find_all(\"a\"):\n",
    "        # print(module['href'])\n",
    "        # print(str(module).split(\"/\")[2], \": \", module['href'])\n",
    "        modules.update({str(module).split(\"/\")[2] : module['href']})\n",
    "\n",
    "    with open(\"module.json\", 'w') as json_file:\n",
    "        json.dump(modules, json_file, indent=4)\n",
    "    \n",
    "    return f\"found len({len(modules.keys())}) modules\"\n",
    "\n",
    "def scrape_top_modules() -> str:\n",
    "    \"\"\"Scrapes the top 4000 modules, returns a response message\"\"\"\n",
    "    modules = []\n",
    "    soup = bs(open(\"Top PyPI Packages_ A fortnightly dump of the 4,000 most-downloaded packages from PyPI.html\"), 'html.parser')\n",
    "    divs = soup.find_all(\"div\", class_=\"two ng-binding\")\n",
    "    for div in divs:\n",
    "        modules.append(div.text)\n",
    "    return f\"found {len(modules)} modules\""
   ]
  },
  {
   "cell_type": "code",
   "execution_count": 4,
   "metadata": {},
   "outputs": [
    {
     "data": {
      "text/plain": [
       "'found len(208293) modules'"
      ]
     },
     "execution_count": 4,
     "metadata": {},
     "output_type": "execute_result"
    }
   ],
   "source": [
    "write_modules()"
   ]
  },
  {
   "cell_type": "code",
   "execution_count": 23,
   "metadata": {},
   "outputs": [
    {
     "data": {
      "text/plain": [
       "'found 4000 modules'"
      ]
     },
     "execution_count": 23,
     "metadata": {},
     "output_type": "execute_result"
    }
   ],
   "source": [
    "scrape_top_modules()\n"
   ]
  },
  {
   "cell_type": "code",
   "execution_count": null,
   "metadata": {},
   "outputs": [],
   "source": []
  }
 ],
 "metadata": {
  "kernelspec": {
   "display_name": "Python 3",
   "language": "python",
   "name": "python3"
  },
  "language_info": {
   "codemirror_mode": {
    "name": "ipython",
    "version": 3
   },
   "file_extension": ".py",
   "mimetype": "text/x-python",
   "name": "python",
   "nbconvert_exporter": "python",
   "pygments_lexer": "ipython3",
   "version": "3.7.3"
  }
 },
 "nbformat": 4,
 "nbformat_minor": 2
}
